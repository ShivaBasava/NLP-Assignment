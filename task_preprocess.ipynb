{
 "cells": [
  {
   "cell_type": "code",
   "execution_count": 21,
   "metadata": {},
   "outputs": [
    {
     "name": "stdout",
     "output_type": "stream",
     "text": [
      "                           id                   text  anger  fear  joy  \\\n",
      "1303  eng_train_track_a_01304  &lt;/crazy-nutter&gt;      0     1    0   \n",
      "\n",
      "      sadness  surprise  \n",
      "1303        0         1  \n"
     ]
    }
   ],
   "source": [
    "import pandas as pd\n",
    "import re\n",
    "\n",
    "def preprocess_track_a(df_dataset):\n",
    "    \"\"\"\n",
    "    # Function takes i/p - dataframe\n",
    "    Preprocesses the Track-A dataset:\n",
    "    - Lowercases text\n",
    "    - Removes punctuation (except intra-word apostrophes)\n",
    "    - Removes extra whitespace\n",
    "    - Ensures label columns are integers (0/1)\n",
    "    Returns a cleaned DataFrame.\n",
    "    \"\"\"\n",
    "    # label columns as per given dataset\n",
    "    label_cols = ['anger', 'fear', 'joy', 'sadness', 'surprise']\n",
    "    \n",
    "    # Lowercase and clean text\n",
    "    def clean_text(text):\n",
    "        if pd.isnull(text):\n",
    "            return \"\"\n",
    "        text = text.lower()\n",
    "        # to retain alphanum\n",
    "        text = re.sub(r\"[^a-z0-9\\s']\", ' ', text)\n",
    "        # to normalize whitespace\n",
    "        text = re.sub(r\"\\s+\", ' ', text)\n",
    "        return text.strip()\n",
    "    \n",
    "    # Initially, cleaning only the 'text'\n",
    "    df_dataset['text'] = df_dataset['text'].astype(str).apply(clean_text)\n",
    "    \n",
    "    # then, to ensure labels are integers (0/1)\n",
    "    for col in label_cols:\n",
    "        df_dataset[col] = df_dataset[col].fillna(0).astype(int)\n",
    "    \n",
    "    \n",
    "    return df_dataset\n",
    "\n"
   ]
  },
  {
   "cell_type": "code",
   "execution_count": 22,
   "metadata": {},
   "outputs": [
    {
     "name": "stdout",
     "output_type": "stream",
     "text": [
      "                        id                                               text  \\\n",
      "0  eng_train_track_a_00001                         colorado middle of nowhere   \n",
      "1  eng_train_track_a_00002  this involved swimming a pretty large lake tha...   \n",
      "2  eng_train_track_a_00003         it was one of my most shameful experiences   \n",
      "3  eng_train_track_a_00004  after all i had vegetables coming out my ears ...   \n",
      "4  eng_train_track_a_00005                         then the screaming started   \n",
      "\n",
      "   anger  fear  joy  sadness  surprise  \n",
      "0      0     1    0        0         1  \n",
      "1      0     1    0        0         0  \n",
      "2      0     1    0        1         0  \n",
      "3      0     0    0        0         0  \n",
      "4      0     1    0        1         1  \n",
      "                           id                text  anger  fear  joy  sadness  \\\n",
      "1303  eng_train_track_a_01304  lt crazy nutter gt      0     1    0        0   \n",
      "\n",
      "      surprise  \n",
      "1303         1  \n"
     ]
    }
   ],
   "source": [
    "def main():\n",
    "    # location to the track-a.csv\n",
    "    df_dataset = pd.read_csv('track-a.csv')\n",
    "    df_clean = preprocess_track_a(df_dataset)\n",
    "    \n",
    "    # To view the dataset after preprocessing\n",
    "  \n",
    "    # print(df_clean.head())  # uncomment\n",
    "\n",
    "    \"\"\"\n",
    "    # may be here, one can invoke, further functions\n",
    "    # after defining them\n",
    "    \"\"\"\n",
    "\n",
    "if __name__ == \"__main__\":\n",
    "    main()\n",
    "\n",
    "\n"
   ]
  }
 ],
 "metadata": {
  "kernelspec": {
   "display_name": "nlp_env",
   "language": "python",
   "name": "python3"
  },
  "language_info": {
   "codemirror_mode": {
    "name": "ipython",
    "version": 3
   },
   "file_extension": ".py",
   "mimetype": "text/x-python",
   "name": "python",
   "nbconvert_exporter": "python",
   "pygments_lexer": "ipython3",
   "version": "3.11.11"
  }
 },
 "nbformat": 4,
 "nbformat_minor": 2
}
